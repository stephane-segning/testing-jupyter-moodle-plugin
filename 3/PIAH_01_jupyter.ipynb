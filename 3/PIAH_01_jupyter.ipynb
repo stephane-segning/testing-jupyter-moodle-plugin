{
  "nbformat": 4,
  "nbformat_minor": 0,
  "metadata": {
    "kernelspec": {
      "display_name": "Python 3",
      "language": "python",
      "name": "python3"
    },
    "language_info": {
      "codemirror_mode": {
        "name": "ipython",
        "version": 3
      },
      "file_extension": ".py",
      "mimetype": "text/x-python",
      "name": "python",
      "nbconvert_exporter": "python",
      "pygments_lexer": "ipython3",
      "version": "3.7.6"
    },
    "colab": {
      "name": "PIAH-01-jupyter.ipynb",
      "provenance": [],
      "toc_visible": true
    }
  },
  "cells": [
    {
      "cell_type": "markdown",
      "metadata": {
        "id": "87Imm83shs6K"
      },
      "source": [
        "\n",
        "<center>\n",
        "\n",
        "# Jupyter Notebooks\n",
        "\n",
        "</center>"
      ]
    },
    {
      "cell_type": "markdown",
      "metadata": {
        "id": "hUS2W0sBhs6N"
      },
      "source": [
        "<center>\n",
        "\n",
        "<img src='https://authorea.com/users/3/articles/6316/master/file/figures/galileo/galileozoom2.png' width='400'>\n",
        "\n",
        "Fig. 1 - This is a translated snapshot from a text by Galileo Galilei,<br> the Sidereus Nuncius or the very first jupyter notebook.\n",
        "</center>"
      ]
    },
    {
      "cell_type": "markdown",
      "metadata": {
        "id": "l5Joi-FShs6P"
      },
      "source": [
        "## What is it?"
      ]
    },
    {
      "cell_type": "markdown",
      "metadata": {
        "id": "wFYBMCH2hs6S"
      },
      "source": [
        "In the Sidereus Nuncius [[1](#Galilei1610)] Galileo notes his observations of the moons of Jupyter, which led him to the conclusion that earth orbits around the sun. Galileos notes include data (his drawings), metadata (time, weather, telescope properties) and text in the form of methods, analysis, and conclusions [[2](#Goodman2014)]. And that is what todays jupter notebooks are about. Sharing a scientific work based on data, bringing everything together in one document:\n",
        "* data and metadata\n",
        "* code applied to the data\n",
        "* text \n",
        "* visualization of the data"
      ]
    },
    {
      "cell_type": "markdown",
      "metadata": {
        "id": "LN3mV71ths6T"
      },
      "source": [
        "## What can it do?"
      ]
    },
    {
      "cell_type": "markdown",
      "metadata": {
        "id": "Jt4e-lpahs6V"
      },
      "source": [
        "* You can write rich-text using markdown or html. You can also include images and other media.\n",
        "* You can display equations using inline latex\n",
        "* You can write and execute code in different programming languages, including julia, python [[3](#VanRossum1995)] and R\n",
        "* You can run shell commands and install software \n",
        "* You can use widgets and interactive tables and plot\n",
        "* notebooks + python and python libraries make it easy to load and process data\n",
        "* You can save and share the notebook file\n",
        "* You can run locally, on a server or in the cloud\n",
        "* You can export a notebook as slideshows, latex or pdf-documents"
      ]
    },
    {
      "cell_type": "markdown",
      "metadata": {
        "id": "Irz3z7_Xhs6W"
      },
      "source": [
        "## OK, how do I do that?"
      ]
    },
    {
      "cell_type": "markdown",
      "metadata": {
        "id": "XZSjLakqhs6b"
      },
      "source": [
        "Here are the basics. \n",
        "* A notebook is made up of cells.\n",
        "    * Each cell has one of 3 possible types\n",
        "        * **Markdown**\n",
        "        * **Code**\n",
        "        * **Raw**\n",
        "        \n",
        "You do not see the cells when you look at the notebook. However when you **click** somewhere into the notebook, you will see a blue bar at the left, that shows the extent of the cell into which you clicked. In colab you will see a shadow around the cell instead of the blue bar to the left. When you **double-click** a cell, you'll switch it into edit mode. You get back to display mode by hitting **shift+enter**. If you do this on a code cell the code is executed and if it has any output, the output is displayed below the code. When you hit *shift-enter* on a cell the next cell will become the new active cell. If the cell was the last cell in the notebook, a new cell will automatically be inserted."
      ]
    },
    {
      "cell_type": "markdown",
      "metadata": {
        "id": "EujhG85khs6c"
      },
      "source": [
        "You can either use the menu at the top, to insert and run cells and to save the notebook, or when you are in edit (enter or double-click) or command mode (esc), keyboard shortcuts. Here are some of the most important:\n",
        "\n",
        "* enter - enter edit mode of the active cell\n",
        "* esc - go to command mode\n",
        "* shift-enter - execute the active cell and display the result\n",
        "* when in command mode (in colab hit ctrl+m before pressing the key):\n",
        "    * m - switch the selected cell to *markdown*\n",
        "    * y - switch the selected cell to *code*\n",
        "    * d - delete the selected cell\n",
        "    * a - insert a new cell above the selected cell\n",
        "    * b - insert a new cell below the selected cell\n",
        "    * ctrl + s - save the notebook\n",
        "* when in edit mode\n",
        "    * ctrl + z - undo\n",
        "    * ctrl + y - redo\n",
        "\n",
        "You can get along with just the shotcuts above but for your convenience [here](https://cheatography.com/weidadeyue/cheat-sheets/jupyter-notebook/pdf_bw/) are more keyboard shortcuts."
      ]
    },
    {
      "cell_type": "markdown",
      "metadata": {
        "id": "fraqxme3laqL"
      },
      "source": [
        "### Raw Cells"
      ]
    },
    {
      "cell_type": "markdown",
      "metadata": {
        "id": "1kwxrF_khs6f"
      },
      "source": [
        "Raw cells are useful when converting a notebook into another document, for example a latex-document. We will not talk about them here, you can savely ignore there existence for now."
      ]
    },
    {
      "cell_type": "markdown",
      "metadata": {
        "id": "nE3Ggi53hs6g"
      },
      "source": [
        "### Markdown cells"
      ]
    },
    {
      "cell_type": "markdown",
      "metadata": {
        "id": "Vtd2_cPOhs6i"
      },
      "source": [
        "Markdown is easy. You can switch any of the text cells in this notebook to edit-mode and see how it is done. Here are some markdown features:\n",
        "***\n",
        "* \\# makes a line a heading of level 1\n",
        "# A first level heading\n",
        "* \\#\\# makes a line a heading of level 2\n",
        "## A second level heading\n",
        "* an empty line begins a new paragraph\n",
        "* \\* + space starts a bullet-list, use indentation for multiple levels\n",
        "    * item 1.1\n",
        "    * item 1.2\n",
        "        * item 2.1\n",
        "        * itme 2.2   \n",
        "* Lines starting with 1. make numbered lists\n",
        "1. item 1\n",
        "1. item 2\n",
        "    1. item 2A\n",
        "    1. item 2B\n",
        "* emphasis\n",
        "    * \\*text\\* makes text emphasized, rendered *in italics*\n",
        "    * \\*\\*text\\*\\* makes strong emphazied text, rendered **as bold text**\n",
        "* \\[text\\]\\(url\\) makes a link, for example [jupyter.org](https://jupyter.org/)\n",
        "* \\!\\[text\\]\\(url\\) displays the image at the url, for example: <center>\n",
        "![atoms](https://upload.wikimedia.org/wikipedia/commons/thumb/8/80/Atom_Diagram.svg/200px-Atom_Diagram.svg.png)\n",
        "</center>\n",
        "***    \n",
        "That's it, you can find more about markdown [here](https://sourceforge.net/p/jupiter/wiki/markdown_syntax/)."
      ]
    },
    {
      "cell_type": "markdown",
      "metadata": {
        "id": "J91WX449hs6j"
      },
      "source": [
        "### Equations with latex"
      ]
    },
    {
      "cell_type": "markdown",
      "metadata": {
        "id": "pMva-Yq2hs6l"
      },
      "source": [
        "In markdown cells you can insert equations written in the latex [[4](#wikibook_latex)] format, by putting the text between \\$ signs. \n",
        "For example:\n",
        "\n",
        "$ X_s(f)\\ \\triangleq \\sum_{k=-\\infty}^{\\infty} X\\left(f - k f_s\\right) = \\sum_{n=-\\infty}^{\\infty} T\\cdot x(nT)\\ e^{-i 2\\pi n T f} $\n",
        "\n",
        "That looks pretty complicated, but it's not all this bad. Here are some elements\n",
        "\n",
        "* _ makes a subscript $X_s$\n",
        "* ^ makes an exponent, for example e^{2 \\cdot x} gives $e^{2 \\cdot x}$\n",
        "* different parts can be separated by {}, for example X_{2 \\cdot i} gives: $X_{2 \\cdot i}$\n",
        "* functions and special symbols start with a backslash (\\\\), for example \\\\pi gives $\\pi$ and \\\\sin(x) gives $\\sin(x)$\n",
        "* fractions are written as \\\\frac\\{1\\}\\{n\\}: $\\frac{1}{n}$"
      ]
    },
    {
      "cell_type": "markdown",
      "metadata": {
        "id": "rVmZ5Gkshs6m"
      },
      "source": [
        "Use ``$eqn$`` for equations within a text  (inline equations) and equations between \\\\begin and \\\\end for equations on their own. For example: "
      ]
    },
    {
      "cell_type": "markdown",
      "metadata": {
        "id": "k-XwuDBrhs6o"
      },
      "source": [
        "\\begin{align}\n",
        "\\dot{x} & = \\sigma(y-x) \\\\\n",
        "\\dot{y} & = \\rho x - y - xz \\\\\n",
        "\\dot{z} & = -\\beta z + xy\n",
        "\\end{align}"
      ]
    },
    {
      "cell_type": "markdown",
      "metadata": {
        "id": "BVJOlW_Nhs6o"
      },
      "source": [
        "You can find more examples [here](https://jupyter-notebook.readthedocs.io/en/stable/examples/Notebook/Typesetting%20Equations.html)."
      ]
    },
    {
      "cell_type": "markdown",
      "metadata": {
        "id": "k-lxY1Kohs6q"
      },
      "source": [
        "### Code cells"
      ]
    },
    {
      "cell_type": "markdown",
      "metadata": {
        "id": "lTU0Dfz_hs6r"
      },
      "source": [
        "In the upper-right corner of the notebook, you can select the ``kernel``. By selecting the ``kernel`` you tell jupyter by which programming language code-cells will be interpreted. In our case the kernel should be ``Python 3``. \n",
        "\n",
        "In colab you can not change the kernel , it is always ``Python 3``, however you can change the allocated hardware (cpu, gpu or tpu) under ``Runtime>Change Runtime``."
      ]
    },
    {
      "cell_type": "markdown",
      "metadata": {
        "id": "zzGh1JTphs6s"
      },
      "source": [
        "A code cell displays the result of the last expression in the cell as an output (if any) when executed."
      ]
    },
    {
      "cell_type": "code",
      "metadata": {
        "id": "yoWNlykEhs6v"
      },
      "source": [
        "2 + 2"
      ],
      "execution_count": null,
      "outputs": []
    },
    {
      "cell_type": "markdown",
      "metadata": {
        "id": "M7iX1QWshs63"
      },
      "source": [
        "It also displays output created by the code, for example by the print command."
      ]
    },
    {
      "cell_type": "code",
      "metadata": {
        "id": "8SJEXJk7hs64"
      },
      "source": [
        "print ('Hello')"
      ],
      "execution_count": null,
      "outputs": []
    },
    {
      "cell_type": "markdown",
      "metadata": {
        "id": "aLPialxPhs7A"
      },
      "source": [
        "There are widgets, but if you only need a simple input from the user, you can use:"
      ]
    },
    {
      "cell_type": "code",
      "metadata": {
        "id": "ix3FzDfWhs7B"
      },
      "source": [
        "name = input(\"What's your name?\")\n",
        "print(f\"Hello {name}\")"
      ],
      "execution_count": null,
      "outputs": []
    },
    {
      "cell_type": "markdown",
      "metadata": {
        "id": "n6724UIYhs7I"
      },
      "source": [
        "You will learn about python in the remainder of this course."
      ]
    },
    {
      "cell_type": "markdown",
      "metadata": {
        "id": "fmTU0gNkhs7J"
      },
      "source": [
        "#### Cell and line magic"
      ]
    },
    {
      "cell_type": "markdown",
      "metadata": {
        "id": "LbT3ruTNhs7K"
      },
      "source": [
        "A line in a code cell that begins with %% is a cell magic command. We can for example measure the time the execution of a cell takes with the cell magic %%time. The next cell calculates the product of all the numbers from 1 to 1000000. On my computer that takes about 6 and a half seconds. You better do not print the result, it is long. "
      ]
    },
    {
      "cell_type": "code",
      "metadata": {
        "id": "svO9AlrOhs7L"
      },
      "source": [
        "%%time\n",
        "import math \n",
        "a = math.factorial(1000000)"
      ],
      "execution_count": null,
      "outputs": []
    },
    {
      "cell_type": "markdown",
      "metadata": {
        "id": "Kscmy6vbhs7R"
      },
      "source": [
        "The line magic %time measures the execution time of a single line."
      ]
    },
    {
      "cell_type": "code",
      "metadata": {
        "id": "EuxCxMb8hs7S"
      },
      "source": [
        "%time a = math.factorial(10000)\n",
        "%time b = math.factorial(100000)\n",
        "%time c = math.factorial(1000000)"
      ],
      "execution_count": null,
      "outputs": []
    },
    {
      "cell_type": "markdown",
      "metadata": {
        "id": "EJ0bYpz9hs7X"
      },
      "source": [
        "You can learn more about magic command [here](https://ipython.readthedocs.io/en/stable/interactive/magics.html)."
      ]
    },
    {
      "cell_type": "markdown",
      "metadata": {
        "id": "7gGyg8Gjhs7Y"
      },
      "source": [
        "### Shell commands"
      ]
    },
    {
      "cell_type": "markdown",
      "metadata": {
        "id": "Jab3z7OFhs7Z"
      },
      "source": [
        "If a line in a cell begins with a !, it is not send to the kernel, but interpreted by the command shell of the operating system. We can use this for example to install python modules or to move files around.\n",
        "\n",
        "One way to install additional packages and modules is by using the python package manager ``pip``. \n",
        "\n",
        "In the next cell, we install the packages graphviz and ann_visualizer. They provide a method to draw the architecture of neural networks. Since the output of ann_visualizer is a pdf, we also install pdf2image and its dependency poppler to create an image from the pdf.\n",
        "\n",
        "We also install mpld3 for displaying interactive plots later."
      ]
    },
    {
      "cell_type": "code",
      "metadata": {
        "id": "wkgb95Guhs7a"
      },
      "source": [
        "!pip3 install graphviz\n",
        "!pip3 install ann_visualizer\n",
        "!pip install pdf2image\n",
        "!apt-get install -y poppler-utils\n",
        "!pip install mpld3"
      ],
      "execution_count": null,
      "outputs": []
    },
    {
      "cell_type": "markdown",
      "metadata": {
        "id": "tv4zzE4Lhs7f"
      },
      "source": [
        "Now we can use the packages we installed before. We create a simple neural network and write its visualization to a pdf-file. We transform the pdf-file to an image and display it in the notebook."
      ]
    },
    {
      "cell_type": "code",
      "metadata": {
        "id": "o61GrIlphs7h"
      },
      "source": [
        "from IPython.display import IFrame\n",
        "from keras.models import Sequential\n",
        "from keras.layers import Dense\n",
        "from ann_visualizer.visualize import ann_viz\n",
        "from pdf2image import convert_from_path\n",
        "from pdf2image.exceptions import PDFInfoNotInstalledError, PDFPageCountError, PDFSyntaxError\n",
        "N=3\n",
        "model = Sequential()\n",
        "model.add(Dense(N*N-1, input_dim=(N*N), activation='relu'))\n",
        "model.add(Dense(1, activation='sigmoid'))\n",
        "ann_viz(model, title='A simple densly connected network.')\n",
        "images = convert_from_path('./network.gv.pdf')\n",
        "images[0]"
      ],
      "execution_count": null,
      "outputs": []
    },
    {
      "cell_type": "markdown",
      "metadata": {
        "id": "d9TxIiadhs7l"
      },
      "source": [
        "Here are some usefull shell commands [[5](#wikibook_bourne_shell)] when running on linux:\n",
        "\n",
        "|command|description|\n",
        "|---|---|\n",
        "| pwd      | print the working directory |\n",
        "| cd <dir> | change the working directory |\n",
        "| ls       | list the content of a directory |\n",
        "| cat <file> | concatenate and print data |\n",
        "| cp <path1> <path2> |  copy a file |\n",
        "| man <command> | display the manual page a command |\n",
        "    \n",
        "You can find more information about linux shell commands [here](https://www.interserver.net/tips/kb/basic-shell-commands-linux-linux-beginners/)."
      ]
    },
    {
      "cell_type": "code",
      "metadata": {
        "id": "QKsI82oIhs7m"
      },
      "source": [
        "!pwd\n",
        "!ls -al"
      ],
      "execution_count": null,
      "outputs": []
    },
    {
      "cell_type": "markdown",
      "metadata": {
        "id": "aNF1vMRXhs7r"
      },
      "source": [
        "## Loading and displaying data from excel"
      ]
    },
    {
      "cell_type": "markdown",
      "metadata": {
        "id": "NbdDtdEyhs7s"
      },
      "source": [
        "To finish this introduction, an example to demonstrate how easy it is to load and display data in jupyter notebooks. We load an excel file from the website of the French INSEE institute, containing the evolution of greenhouse gas emissions under the Kyoto Protocol from 1990 to 2018. \n",
        "\n",
        "The next loads the content of the excel file and displays a part of it as a table."
      ]
    },
    {
      "cell_type": "code",
      "metadata": {
        "id": "I-vyB1cBhs7t"
      },
      "source": [
        "import pandas as pd\n",
        "ts = pd.read_excel('https://www.insee.fr/fr/statistiques/fichier/4277613/T20F023.xlsx', index_col=0)\n",
        "ts = pd.DataFrame(ts).reset_index()\n",
        "ts.columns = ['Année', \"Taux d'évolution\"]\n",
        "ts = ts[3:]\n",
        "ts[1:10]"
      ],
      "execution_count": null,
      "outputs": []
    },
    {
      "cell_type": "markdown",
      "metadata": {
        "id": "ZGmBKCRIhs7z"
      },
      "source": [
        "And now we plot the data as an interactive graph."
      ]
    },
    {
      "cell_type": "code",
      "metadata": {
        "id": "lLPJ2YKbhs70"
      },
      "source": [
        "import mpld3\n",
        "axes = ts.plot(title=\"Plotting data from an excel file\", figsize=(12,4))\n",
        "mpld3.display()"
      ],
      "execution_count": null,
      "outputs": []
    },
    {
      "cell_type": "markdown",
      "source": [],
      "metadata": {
        "id": "mPjH4HHRgJdY"
      }
    },
    {
      "cell_type": "markdown",
      "metadata": {
        "id": "PXPMnGhEhs75"
      },
      "source": [
        "## Literature"
      ]
    },
    {
      "cell_type": "markdown",
      "metadata": {
        "id": "Bu2FUcrYhs76"
      },
      "source": [
        "<a name=\"Galilei1610\"></a>\n",
        "1. G. Galilei. [Sidereus nuncius](https://www.library.si.edu/digital-library/book/sidereusnuncius00gali). Thomas Baglioni, 1610.\n",
        "<a name=\"Goodman2014\"></a>\n",
        "1. Alyssa Goodman, Alberto Pepe, Alexander W. Blocker, Christine L. Borgman, Kyle Cranmer, Mercè Crosas, Rosanne Di Stefano, Yolanda Gil, Paul Groth, Margaret Hedstrom, David W. Hogg, Vinay Kashyap, Ashish Mahabal, Aneta Siemiginowska, Aleksandra Slavkovic. [Ten Simple Rules for the Care and Feeding of Scientific Data](https://www.ncbi.nlm.nih.gov/pmc/articles/PMC3998871/). PLoS Computational Biology In press Public Library of Science, 2014.\n",
        "<a name=\"VanRossum1995\"></a>\n",
        "1. Van Rossum G, Drake Jr FL. [Python tutorial](https://ir.cwi.nl/pub/5007/05007D.pdf). Centrum voor Wiskunde en Informatica Amsterdam, The Netherlands; 1995.\n",
        "<a name=\"wikibook_latex\"></a>\n",
        "1. Wikibooks contributors, ['LaTeX'](https://en.wikibooks.org/w/index.php?title=LaTeX&oldid=3659624), Wikibooks, The Free Textbook Project, 16 February 2020, 07:51 UTC, accessed 28 April 2020\n",
        "<a name=\"wikibook_bourne_shell\"></a>\n",
        "1. Wikibooks contributors, ['Bourne Shell Scripting'](https://en.wikibooks.org/w/index.php?title=Bourne_Shell_Scripting&oldid=3502722), Wikibooks, The Free Textbook Project, 15 December 2018, 04:17 UTC, accessed 28 April 2020\n",
        "\n",
        "\n",
        "\n"
      ]
    }
  ]
}